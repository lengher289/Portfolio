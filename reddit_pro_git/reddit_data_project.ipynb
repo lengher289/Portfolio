{
 "cells": [
  {
   "cell_type": "code",
   "execution_count": 32,
   "metadata": {},
   "outputs": [],
   "source": [
    "import numpy as np\n",
    "import pandas as pd\n",
    "import requests"
   ]
  },
  {
   "cell_type": "code",
   "execution_count": 33,
   "metadata": {},
   "outputs": [],
   "source": [
    "with open('pass.txt', 'r') as f:\n",
    "    lines = f.readlines()\n",
    "\n",
    "pwd = lines[0].strip()\n",
    "CLIENT_ID = lines[1].strip()\n",
    "SECRET_ID = lines[2].strip()"
   ]
  },
  {
   "cell_type": "code",
   "execution_count": 34,
   "metadata": {},
   "outputs": [],
   "source": [
    "data = {\n",
    "    'grant_type': 'password',\n",
    "    'username': 'eJechtion4',\n",
    "    'password': pwd\n",
    "}\n",
    "headers = {\"User-Agent\": \"MyAPI/1.0.0\"}\n",
    "auth = requests.auth.HTTPBasicAuth(CLIENT_ID, SECRET_ID)\n",
    "\n",
    "res = requests.post('https://www.reddit.com/api/v1/access_token',\n",
    "auth = auth, data = data, headers = headers)\n",
    "\n",
    "TOKEN = res.json()[\"access_token\"]\n",
    "headers[\"Authorization\"] = f'bearer {TOKEN}'\n"
   ]
  },
  {
   "cell_type": "code",
   "execution_count": 39,
   "metadata": {},
   "outputs": [],
   "source": [
    "res = requests.get(\"https://oauth.reddit.com/r/AskReddit/new\", headers = headers, params= {'limit': '100'})"
   ]
  },
  {
   "cell_type": "code",
   "execution_count": 40,
   "metadata": {},
   "outputs": [
    {
     "name": "stdout",
     "output_type": "stream",
     "text": [
      "What is considered childish but you still do it?\n",
      "Has anyone ever taken a long break from Reddit? How did your life change?\n",
      "nietzsche said that life without music would be a mistake, what's your favourite?\n",
      "What is your best shower thought?\n",
      "What is the scariest story you've ever read on Reddit?\n",
      "What’s the best fake quote you can make up from a famous person that sounds real?\n",
      "What really dumb joke did you tell that got everyone laughing?\n",
      "What weird thing do you do when nobody else is around?\n",
      "Heaven for the climate, Hell for the company. What is your favorite saying?\n",
      "What do you hope to be an expert about at some point in your life?\n",
      "What's the worst case you've heard of someone misunderstanding the meaning of a song?\n",
      "What is surprisingly legal?\n",
      "What if C always made a hard sound and K never existed?\n",
      "(Serious) what’s something that economically and/or financially broke you?\n",
      "What are some of the most beginner friendly animation software?\n",
      "What's the dumbest thing you ever lied about?\n",
      "how would metal fatigue effect a rifle in a scenario like the walking dead?\n",
      "What is your favorite rap song?\n",
      "What would you say to your 10-year-old self?\n",
      "What are some signs of an abusive person?\n",
      "What is the worst or craziest thing that someone has done, that you know personally? What was your response?\n",
      "What is the best/worst inventions of all time?\n",
      "What has been your favorite song in the past week?\n",
      "Dear fellow perma-single people of Reddit. What do you do after work?\n",
      "Was there one standout moment in your life where you felt like you became an 'adult'?\n",
      "How do you feel about sharing your information with a new connection (can be anyone, a neighbour, a date, a colleague, a stranger etc.) for the first time? What if you can stay connected without disclosing your contact information or social media?\n",
      "How do you think the year 2100 will be?\n",
      "People who think Joe Biden is a bad president, what is a piece of legislation that he’s past that you think is bad?\n",
      "what do you wear on a first date (as a female ) to some ones house who's cooking for you ?\n",
      "Have you ever had a long distance relationship and if yes how did it end up?\n",
      "Young adults in their early 20’s what’s your biggest problem and what are you going through right now?\n",
      "What is the best way to earn money online?\n",
      "To non-believers: How do you feel/respond when friends and/or family talk to you about God as if you’re also a believer?\n",
      "How did your teacher respond when you accidentally called her mom?\n",
      "What thing if eliminated would dramatically reduce crime in the world?\n",
      "When was a time you found out the person you were seeing/talking too was crazy? Like really really crazy?\n",
      "What is one of your favorite smells?\n",
      "Whats the most embarrassing thing that happend to you or someone else in your school?\n",
      "what was the reason for leaving your first love?\n",
      "Whats the stupidest place/thing you’ve pissed in/on while drunk?\n",
      "What is one good thing that happened to you today?\n",
      "What question are you ultimately tired of hearing?\n",
      "what happened after you left your first love?\n",
      "How does your typical day look like? Is it routine orientated? If so, what’s your favorite part of the routine?\n",
      "What should we use planet Mars for?\n",
      "Why go to sold out shows to see your favorite artists sing when you can do it for free on YouTube/other music streams?\n",
      "[Serious] Redditors who believe in astrology, why?\n",
      "If you could kill only one celebrity, who would it be and why?\n",
      "How would the world change if every human woke up tomorrow with the inability to lie?\n",
      "Other epileptics of Reddit, have you tried Cannabis as a treatment? How affective was it?\n",
      "what are some good movies to watch blasted?\n",
      "What *can't* money buy?\n",
      "(Serious) What is the best way to continue a conversation when it gets to the awkward silence moment?\n",
      "What valuable lesson did you learn from your first relationship, and do you still follow it?\n",
      "Introverts, what are social gatherings like for you?\n",
      "What reason is there for a woman to use the toilet seat up?\n",
      "Who broke your heart first?\n",
      "What is your biggest pet peeve?\n",
      "How can a person gain more confidence?\n",
      "If you could only use one news source, which source would you choose?\n",
      "What talent would you show off in a talent show?\n",
      "if it were possible and you absolutely had to, what planet would you move to?\n",
      "What was the best compliment you've ever received?\n",
      "What technological breakthroughs are needed to make drastic improvements in global health and education?\n",
      "What's on your bucket list before you die?\n",
      "[Serious] Doctors/patients of Reddit, what’s your misdiagnosis story?\n",
      "Why don't we have all-inclusive gender sports?\n",
      "What are your thoughts on this: ‘if there’s no textual chemistry on the dating app chat, there will be no in person chemistry’?\n",
      "What are some books non-English speakers read in school?\n",
      "How can you tell someone to take a break when they are overworked?\n",
      "Guys - what did a girl do that made you realize she's attracted to you?\n",
      "What is a reason to not quit life?\n",
      "Americans of reddit what is something that Joe Biden has done that you like?\n",
      "What are some of the most effective ways to set and achieve personal goals?\n",
      "What does it say about a person if their most used app is the settings?\n",
      "How do you choose a reliable and high quality office cleaning service?\n",
      "What is your favourite shower food?\n",
      "People who left a cult, when did you decide to leave?\n",
      "Why don't you do that thing you used to do anymore?\n",
      "are you satisfied with your life? if not what would you like to change?\n",
      "Cosplayers of Reddit did your cosplay get you into a relationship if so how is it going?\n",
      "What order do you put your bed sheets on?\n",
      "What are you interested in that most people haven't heard of?\n",
      "What is a million dollar idea you’ve come up with ?\n",
      "Redditors of Reddit, how close is it to being joever?\n",
      "Women of Reddit who have been or are with a good man how is it like?\n",
      "Mods of reddit, what is the worst thing you have seen?\n",
      "What's your earliest memory?\n",
      "How did you overcome the trauma of being cheated on?\n",
      "Those that are against unions, why?\n",
      "What’s your favourite sound?\n",
      "Leather jackets are a recent trend in America after being out of fashion for forever. In Europe seems like they are everywhere, even leather shoes. Do Europeans wear way more leather than Americans?\n",
      "What are things people should know before moving to your state?\n",
      "What was your best day?\n",
      "If someone told you they hadn’t watched TV in 10 years and were starting back up again, what show would you recommend they binge watch?\n",
      "how do you want to die?\n",
      "What is your favorite animal?\n",
      "What is your best \"Oh sh!t, I f'ed up\" story?\n",
      "If you lost all of your possessions but one, what would you want it to be?\n",
      "What other things can Tucker Carlson present as an alternate reality?\n"
     ]
    }
   ],
   "source": [
    "for post in res.json()['data'][\"children\"]:\n",
    "    print(post[\"data\"][\"title\"])"
   ]
  }
 ],
 "metadata": {
  "kernelspec": {
   "display_name": "Python 3.7.4 32-bit",
   "language": "python",
   "name": "python3"
  },
  "language_info": {
   "codemirror_mode": {
    "name": "ipython",
    "version": 3
   },
   "file_extension": ".py",
   "mimetype": "text/x-python",
   "name": "python",
   "nbconvert_exporter": "python",
   "pygments_lexer": "ipython3",
   "version": "3.7.4"
  },
  "orig_nbformat": 4,
  "vscode": {
   "interpreter": {
    "hash": "10f28397b6593cba7dcf5b94dfb0d1605ccb28146fdb7157b621a9c587d85554"
   }
  }
 },
 "nbformat": 4,
 "nbformat_minor": 2
}
