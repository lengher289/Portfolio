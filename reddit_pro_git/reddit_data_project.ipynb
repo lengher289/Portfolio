{
 "cells": [
  {
   "cell_type": "code",
   "execution_count": 148,
   "metadata": {},
   "outputs": [],
   "source": [
    "#import depedencies\n",
    "import numpy as np\n",
    "import pandas as pd\n",
    "import requests\n",
    "from datetime import datetime\n",
    "import nltk\n",
    "from nltk.tokenize import word_tokenize\n",
    "from nltk.corpus import stopwords\n",
    "from nltk.stem import PorterStemmer, WordNetLemmatizer\n",
    "from sklearn.feature_extraction.text import CountVectorizer\n",
    "from sklearn.cluster import KMeans\n",
    "import matplotlib.pyplot as plt\n",
    "from nltk.sentiment.vader import SentimentIntensityAnalyzer"
   ]
  },
  {
   "cell_type": "markdown",
   "metadata": {},
   "source": [
    "# Retrieve Data\n"
   ]
  },
  {
   "cell_type": "code",
   "execution_count": 149,
   "metadata": {},
   "outputs": [],
   "source": [
    "with open('pass.txt', 'r') as f:\n",
    "    lines = f.readlines()\n",
    "\n",
    "pwd = lines[0].strip()\n",
    "CLIENT_ID = lines[1].strip()\n",
    "SECRET_ID = lines[2].strip()"
   ]
  },
  {
   "cell_type": "markdown",
   "metadata": {},
   "source": [
    "Get necessary credentials in order to use API"
   ]
  },
  {
   "cell_type": "code",
   "execution_count": 150,
   "metadata": {},
   "outputs": [],
   "source": [
    "data = {\n",
    "    'grant_type': 'password',\n",
    "    'username': 'eJechtion4',\n",
    "    'password': pwd\n",
    "}\n",
    "headers = {\"User-Agent\": \"MyAPI/1.0.0\"}\n",
    "auth = requests.auth.HTTPBasicAuth(CLIENT_ID, SECRET_ID)\n",
    "\n",
    "res = requests.post('https://www.reddit.com/api/v1/access_token',\n",
    "auth = auth, data = data, headers = headers)\n",
    "\n",
    "TOKEN = res.json()[\"access_token\"]\n",
    "headers[\"Authorization\"] = f'bearer {TOKEN}'\n"
   ]
  },
  {
   "cell_type": "code",
   "execution_count": 151,
   "metadata": {},
   "outputs": [],
   "source": [
    "res = requests.get(\"https://oauth.reddit.com/r/AskReddit/hot\", headers = headers, params= {'limit': '100'})"
   ]
  },
  {
   "cell_type": "code",
   "execution_count": 152,
   "metadata": {},
   "outputs": [],
   "source": [
    "# Extract relevant data from API response\n",
    "data = []\n",
    "for post in res.json()[\"data\"][\"children\"]:\n",
    "    post_date = datetime.utcfromtimestamp(post[\"data\"][\"created_utc\"]).strftime('%Y-%m-%d %H:%M:%S')\n",
    "    data.append({\n",
    "        \"post_id\": post[\"data\"][\"id\"],\n",
    "        \"post_title\": post[\"data\"][\"title\"],\n",
    "        \"post_text\": post[\"data\"][\"selftext\"],\n",
    "        \"post_date\": post_date,\n",
    "        \"author\": post[\"data\"][\"author\"],\n",
    "        \"subreddit\": post[\"data\"][\"subreddit\"],\n",
    "        \"upvotes\": post[\"data\"][\"ups\"],\n",
    "        \"downvotes\": post[\"data\"][\"downs\"],\n",
    "        \"num_comments\": post[\"data\"][\"num_comments\"]\n",
    "    })\n",
    "\n",
    "# Create pandas DataFrame from extracted data\n",
    "df = pd.DataFrame(data)"
   ]
  },
  {
   "cell_type": "markdown",
   "metadata": {},
   "source": [
    "Retrieve data from the Reddit by using Reddit's API. The API data is retrieved by making a POST request to the API using the requests library, and then extracting relevant data. The data retrieved is from the subreddit \"AskReddit\" which is a subreddit of primarly asking a variety of questions."
   ]
  },
  {
   "cell_type": "markdown",
   "metadata": {},
   "source": [
    "# Clean Data"
   ]
  },
  {
   "cell_type": "code",
   "execution_count": 153,
   "metadata": {},
   "outputs": [
    {
     "name": "stdout",
     "output_type": "stream",
     "text": [
      "0\n"
     ]
    }
   ],
   "source": [
    "print(df.duplicated().sum()) #check for duplicates\n",
    "df.drop_duplicates(subset=['post_title', 'post_text'], inplace=True) #drop duplicates\n",
    "df"
   ]
  },
  {
   "cell_type": "code",
   "execution_count": 156,
   "metadata": {},
   "outputs": [
    {
     "name": "stdout",
     "output_type": "stream",
     "text": [
      "<class 'pandas.core.frame.DataFrame'>\n",
      "Int64Index: 101 entries, 0 to 100\n",
      "Data columns (total 9 columns):\n",
      " #   Column        Non-Null Count  Dtype \n",
      "---  ------        --------------  ----- \n",
      " 0   post_id       101 non-null    object\n",
      " 1   post_title    101 non-null    object\n",
      " 2   post_text     101 non-null    object\n",
      " 3   post_date     101 non-null    object\n",
      " 4   author        101 non-null    object\n",
      " 5   subreddit     101 non-null    object\n",
      " 6   upvotes       101 non-null    int64 \n",
      " 7   downvotes     101 non-null    int64 \n",
      " 8   num_comments  101 non-null    int64 \n",
      "dtypes: int64(3), object(6)\n",
      "memory usage: 5.5+ KB\n"
     ]
    }
   ],
   "source": [
    "df.info()"
   ]
  },
  {
   "cell_type": "code",
   "execution_count": 157,
   "metadata": {},
   "outputs": [],
   "source": [
    "#Remove puncutation from post title for better analysis later on\n",
    "import re\n",
    "\n",
    "# define a function to remove punctuation from a string\n",
    "def remove_punctuation(text):\n",
    "    return re.sub(r'[^\\w\\s]','',text)\n",
    "\n",
    "# remove punctuation from the \"post_title\" column\n",
    "df_no_punct = df.copy()\n",
    "df_no_punct['post_title'] = df_no_punct['post_title'].apply(remove_punctuation)\n"
   ]
  },
  {
   "cell_type": "code",
   "execution_count": 158,
   "metadata": {},
   "outputs": [
    {
     "data": {
      "text/html": [
       "<div>\n",
       "<style scoped>\n",
       "    .dataframe tbody tr th:only-of-type {\n",
       "        vertical-align: middle;\n",
       "    }\n",
       "\n",
       "    .dataframe tbody tr th {\n",
       "        vertical-align: top;\n",
       "    }\n",
       "\n",
       "    .dataframe thead th {\n",
       "        text-align: right;\n",
       "    }\n",
       "</style>\n",
       "<table border=\"1\" class=\"dataframe\">\n",
       "  <thead>\n",
       "    <tr style=\"text-align: right;\">\n",
       "      <th></th>\n",
       "      <th>post_id</th>\n",
       "      <th>post_title</th>\n",
       "      <th>post_text</th>\n",
       "      <th>post_date</th>\n",
       "      <th>author</th>\n",
       "      <th>subreddit</th>\n",
       "      <th>upvotes</th>\n",
       "      <th>downvotes</th>\n",
       "      <th>num_comments</th>\n",
       "    </tr>\n",
       "  </thead>\n",
       "  <tbody>\n",
       "    <tr>\n",
       "      <th>0</th>\n",
       "      <td>11kyi0b</td>\n",
       "      <td>Which one of these charities should AskReddit ...</td>\n",
       "      <td>It's time for the community to vote on which c...</td>\n",
       "      <td>2023-03-07 12:49:22</td>\n",
       "      <td>-eDgAR-</td>\n",
       "      <td>AskReddit</td>\n",
       "      <td>133</td>\n",
       "      <td>0</td>\n",
       "      <td>6</td>\n",
       "    </tr>\n",
       "    <tr>\n",
       "      <th>1</th>\n",
       "      <td>11nujza</td>\n",
       "      <td>You find a wallet with 300 in it What do you f...</td>\n",
       "      <td></td>\n",
       "      <td>2023-03-10 17:01:47</td>\n",
       "      <td>SolutionIsEducation</td>\n",
       "      <td>AskReddit</td>\n",
       "      <td>5282</td>\n",
       "      <td>0</td>\n",
       "      <td>4150</td>\n",
       "    </tr>\n",
       "    <tr>\n",
       "      <th>2</th>\n",
       "      <td>11nt5w1</td>\n",
       "      <td>People of Reddit what is the dumbest reason yo...</td>\n",
       "      <td></td>\n",
       "      <td>2023-03-10 16:08:27</td>\n",
       "      <td>Starboy3210</td>\n",
       "      <td>AskReddit</td>\n",
       "      <td>2129</td>\n",
       "      <td>0</td>\n",
       "      <td>1889</td>\n",
       "    </tr>\n",
       "    <tr>\n",
       "      <th>3</th>\n",
       "      <td>11nqkcm</td>\n",
       "      <td>If instead of men women were inherently physic...</td>\n",
       "      <td></td>\n",
       "      <td>2023-03-10 14:23:57</td>\n",
       "      <td>Tototorrin</td>\n",
       "      <td>AskReddit</td>\n",
       "      <td>1215</td>\n",
       "      <td>0</td>\n",
       "      <td>1332</td>\n",
       "    </tr>\n",
       "    <tr>\n",
       "      <th>4</th>\n",
       "      <td>11nmzgf</td>\n",
       "      <td>What food has the worst texture</td>\n",
       "      <td></td>\n",
       "      <td>2023-03-10 11:48:32</td>\n",
       "      <td>Lille_Ana</td>\n",
       "      <td>AskReddit</td>\n",
       "      <td>1351</td>\n",
       "      <td>0</td>\n",
       "      <td>3328</td>\n",
       "    </tr>\n",
       "    <tr>\n",
       "      <th>...</th>\n",
       "      <td>...</td>\n",
       "      <td>...</td>\n",
       "      <td>...</td>\n",
       "      <td>...</td>\n",
       "      <td>...</td>\n",
       "      <td>...</td>\n",
       "      <td>...</td>\n",
       "      <td>...</td>\n",
       "      <td>...</td>\n",
       "    </tr>\n",
       "    <tr>\n",
       "      <th>96</th>\n",
       "      <td>11o4j64</td>\n",
       "      <td>What is the longest you have ever went without...</td>\n",
       "      <td></td>\n",
       "      <td>2023-03-10 23:34:58</td>\n",
       "      <td>Puzzleheaded-Pen9047</td>\n",
       "      <td>AskReddit</td>\n",
       "      <td>3</td>\n",
       "      <td>0</td>\n",
       "      <td>10</td>\n",
       "    </tr>\n",
       "    <tr>\n",
       "      <th>97</th>\n",
       "      <td>11o4hde</td>\n",
       "      <td>Reddit what are some unethical ways to make money</td>\n",
       "      <td></td>\n",
       "      <td>2023-03-10 23:32:54</td>\n",
       "      <td>macanddogs</td>\n",
       "      <td>AskReddit</td>\n",
       "      <td>3</td>\n",
       "      <td>0</td>\n",
       "      <td>12</td>\n",
       "    </tr>\n",
       "    <tr>\n",
       "      <th>98</th>\n",
       "      <td>11o4h09</td>\n",
       "      <td>What do you put cheese on</td>\n",
       "      <td></td>\n",
       "      <td>2023-03-10 23:32:28</td>\n",
       "      <td>Puzzleheaded-Pen9047</td>\n",
       "      <td>AskReddit</td>\n",
       "      <td>3</td>\n",
       "      <td>0</td>\n",
       "      <td>18</td>\n",
       "    </tr>\n",
       "    <tr>\n",
       "      <th>99</th>\n",
       "      <td>11o4gew</td>\n",
       "      <td>What are some good hacks and survival tricks f...</td>\n",
       "      <td></td>\n",
       "      <td>2023-03-10 23:31:44</td>\n",
       "      <td>Shamanofthealike1</td>\n",
       "      <td>AskReddit</td>\n",
       "      <td>3</td>\n",
       "      <td>0</td>\n",
       "      <td>5</td>\n",
       "    </tr>\n",
       "    <tr>\n",
       "      <th>100</th>\n",
       "      <td>11o4fcp</td>\n",
       "      <td>Which video game were you legit addicted to</td>\n",
       "      <td></td>\n",
       "      <td>2023-03-10 23:30:31</td>\n",
       "      <td>primeiro23</td>\n",
       "      <td>AskReddit</td>\n",
       "      <td>3</td>\n",
       "      <td>0</td>\n",
       "      <td>16</td>\n",
       "    </tr>\n",
       "  </tbody>\n",
       "</table>\n",
       "<p>101 rows × 9 columns</p>\n",
       "</div>"
      ],
      "text/plain": [
       "     post_id                                         post_title  \\\n",
       "0    11kyi0b  Which one of these charities should AskReddit ...   \n",
       "1    11nujza  You find a wallet with 300 in it What do you f...   \n",
       "2    11nt5w1  People of Reddit what is the dumbest reason yo...   \n",
       "3    11nqkcm  If instead of men women were inherently physic...   \n",
       "4    11nmzgf                    What food has the worst texture   \n",
       "..       ...                                                ...   \n",
       "96   11o4j64  What is the longest you have ever went without...   \n",
       "97   11o4hde  Reddit what are some unethical ways to make money   \n",
       "98   11o4h09                          What do you put cheese on   \n",
       "99   11o4gew  What are some good hacks and survival tricks f...   \n",
       "100  11o4fcp        Which video game were you legit addicted to   \n",
       "\n",
       "                                             post_text            post_date  \\\n",
       "0    It's time for the community to vote on which c...  2023-03-07 12:49:22   \n",
       "1                                                       2023-03-10 17:01:47   \n",
       "2                                                       2023-03-10 16:08:27   \n",
       "3                                                       2023-03-10 14:23:57   \n",
       "4                                                       2023-03-10 11:48:32   \n",
       "..                                                 ...                  ...   \n",
       "96                                                      2023-03-10 23:34:58   \n",
       "97                                                      2023-03-10 23:32:54   \n",
       "98                                                      2023-03-10 23:32:28   \n",
       "99                                                      2023-03-10 23:31:44   \n",
       "100                                                     2023-03-10 23:30:31   \n",
       "\n",
       "                   author  subreddit  upvotes  downvotes  num_comments  \n",
       "0                 -eDgAR-  AskReddit      133          0             6  \n",
       "1     SolutionIsEducation  AskReddit     5282          0          4150  \n",
       "2             Starboy3210  AskReddit     2129          0          1889  \n",
       "3              Tototorrin  AskReddit     1215          0          1332  \n",
       "4               Lille_Ana  AskReddit     1351          0          3328  \n",
       "..                    ...        ...      ...        ...           ...  \n",
       "96   Puzzleheaded-Pen9047  AskReddit        3          0            10  \n",
       "97             macanddogs  AskReddit        3          0            12  \n",
       "98   Puzzleheaded-Pen9047  AskReddit        3          0            18  \n",
       "99      Shamanofthealike1  AskReddit        3          0             5  \n",
       "100            primeiro23  AskReddit        3          0            16  \n",
       "\n",
       "[101 rows x 9 columns]"
      ]
     },
     "execution_count": 158,
     "metadata": {},
     "output_type": "execute_result"
    }
   ],
   "source": [
    "df_no_punct"
   ]
  },
  {
   "cell_type": "markdown",
   "metadata": {},
   "source": [
    "We had to remove punctuation has it was interfering with some data analysis. By removing these punctuation we hope to improve the accuracy of our results."
   ]
  },
  {
   "cell_type": "markdown",
   "metadata": {},
   "source": [
    "# NLP Start\n"
   ]
  },
  {
   "cell_type": "code",
   "execution_count": 160,
   "metadata": {},
   "outputs": [],
   "source": [
    "# define stop words\n",
    "stop_words = set(stopwords.words('english'))\n",
    "\n",
    "stemmer = PorterStemmer()\n",
    "lemmatizer = WordNetLemmatizer()\n",
    "\n",
    "# define preprocessing pipeline\n",
    "def preprocess_text(text):\n",
    "    # tokenize text\n",
    "    tokens = word_tokenize(text)\n",
    "\n",
    "    # remove stop words\n",
    "    tokens = [token for token in tokens if token not in stop_words]\n",
    "\n",
    "    # stem and lemmatize tokens\n",
    "    stemmed_tokens = [stemmer.stem(token) for token in tokens]\n",
    "    lemmatized_tokens = [lemmatizer.lemmatize(token) for token in stemmed_tokens]\n",
    "\n",
    "    # return preprocessed text as a string\n",
    "    return \" \".join(lemmatized_tokens)\n",
    "\n",
    "\n"
   ]
  },
  {
   "cell_type": "markdown",
   "metadata": {},
   "source": [
    "We utlized stop words from the nltk library after which we preprocessed the important texts along with stemming them and lemmatizing them. "
   ]
  },
  {
   "cell_type": "code",
   "execution_count": 161,
   "metadata": {},
   "outputs": [],
   "source": [
    "# apply preprocessing pipeline to text data\n",
    "df_no_punct[\"preprocessed_text\"] = df_no_punct[\"post_title\"].apply(preprocess_text)"
   ]
  },
  {
   "cell_type": "code",
   "execution_count": 162,
   "metadata": {},
   "outputs": [
    {
     "data": {
      "text/plain": [
       "0      which one chariti askreddit support 15th anniv...\n",
       "1      you find wallet 300 what find wallet make keep...\n",
       "2      peopl reddit dumbest reason ex partner gave cheat\n",
       "3      if instead men woman inher physic stronger wou...\n",
       "4                                 what food worst textur\n",
       "                             ...                        \n",
       "96                    what longest ever went without eat\n",
       "97                           reddit uneth way make money\n",
       "98                                        what put chees\n",
       "99     what good hack surviv trick someon live someon...\n",
       "100                        which video game legit addict\n",
       "Name: preprocessed_text, Length: 101, dtype: object"
      ]
     },
     "execution_count": 162,
     "metadata": {},
     "output_type": "execute_result"
    }
   ],
   "source": [
    "df_no_punct[\"preprocessed_text\"] # check if stemming worked"
   ]
  },
  {
   "cell_type": "markdown",
   "metadata": {},
   "source": [
    "# Vectorize data\n"
   ]
  },
  {
   "cell_type": "markdown",
   "metadata": {},
   "source": [
    "We want to convert text into numberical data so that we can use machine learning algorithims on it. Vectorization also helps in reducing the dimentionality of the data which can improve effciency."
   ]
  },
  {
   "cell_type": "code",
   "execution_count": 163,
   "metadata": {},
   "outputs": [],
   "source": [
    "# create a CountVectorizer\n",
    "vectorizer = CountVectorizer(stop_words='english', max_features=1000)\n",
    "\n",
    "# fit and transform the preprocessed_text column\n",
    "X = vectorizer.fit_transform(df_no_punct[\"preprocessed_text\"])\n",
    "\n",
    "# create a new dataframe with the countvectorizer output\n",
    "cv_df = pd.DataFrame(X.toarray(), columns=vectorizer.get_feature_names_out())\n",
    "\n",
    "# concatenate the cv_df dataframe with the original dataframe\n",
    "df_final = pd.concat([df_no_punct, cv_df], axis=1)"
   ]
  },
  {
   "cell_type": "code",
   "execution_count": 164,
   "metadata": {},
   "outputs": [
    {
     "data": {
      "text/html": [
       "<div>\n",
       "<style scoped>\n",
       "    .dataframe tbody tr th:only-of-type {\n",
       "        vertical-align: middle;\n",
       "    }\n",
       "\n",
       "    .dataframe tbody tr th {\n",
       "        vertical-align: top;\n",
       "    }\n",
       "\n",
       "    .dataframe thead th {\n",
       "        text-align: right;\n",
       "    }\n",
       "</style>\n",
       "<table border=\"1\" class=\"dataframe\">\n",
       "  <thead>\n",
       "    <tr style=\"text-align: right;\">\n",
       "      <th></th>\n",
       "      <th>post_id</th>\n",
       "      <th>post_title</th>\n",
       "      <th>post_text</th>\n",
       "      <th>post_date</th>\n",
       "      <th>author</th>\n",
       "      <th>subreddit</th>\n",
       "      <th>upvotes</th>\n",
       "      <th>downvotes</th>\n",
       "      <th>num_comments</th>\n",
       "      <th>preprocessed_text</th>\n",
       "      <th>...</th>\n",
       "      <th>wikipedia</th>\n",
       "      <th>wish</th>\n",
       "      <th>wit</th>\n",
       "      <th>woman</th>\n",
       "      <th>work</th>\n",
       "      <th>world</th>\n",
       "      <th>worst</th>\n",
       "      <th>year</th>\n",
       "      <th>youv</th>\n",
       "      <th>zombi</th>\n",
       "    </tr>\n",
       "  </thead>\n",
       "  <tbody>\n",
       "    <tr>\n",
       "      <th>0</th>\n",
       "      <td>11kyi0b</td>\n",
       "      <td>Which one of these charities should AskReddit ...</td>\n",
       "      <td>It's time for the community to vote on which c...</td>\n",
       "      <td>2023-03-07 12:49:22</td>\n",
       "      <td>-eDgAR-</td>\n",
       "      <td>AskReddit</td>\n",
       "      <td>133</td>\n",
       "      <td>0</td>\n",
       "      <td>6</td>\n",
       "      <td>which one chariti askreddit support 15th anniv...</td>\n",
       "      <td>...</td>\n",
       "      <td>0</td>\n",
       "      <td>0</td>\n",
       "      <td>0</td>\n",
       "      <td>0</td>\n",
       "      <td>0</td>\n",
       "      <td>0</td>\n",
       "      <td>0</td>\n",
       "      <td>0</td>\n",
       "      <td>0</td>\n",
       "      <td>0</td>\n",
       "    </tr>\n",
       "    <tr>\n",
       "      <th>1</th>\n",
       "      <td>11nujza</td>\n",
       "      <td>You find a wallet with 300 in it What do you f...</td>\n",
       "      <td></td>\n",
       "      <td>2023-03-10 17:01:47</td>\n",
       "      <td>SolutionIsEducation</td>\n",
       "      <td>AskReddit</td>\n",
       "      <td>5282</td>\n",
       "      <td>0</td>\n",
       "      <td>4150</td>\n",
       "      <td>you find wallet 300 what find wallet make keep...</td>\n",
       "      <td>...</td>\n",
       "      <td>0</td>\n",
       "      <td>0</td>\n",
       "      <td>0</td>\n",
       "      <td>0</td>\n",
       "      <td>0</td>\n",
       "      <td>0</td>\n",
       "      <td>0</td>\n",
       "      <td>0</td>\n",
       "      <td>0</td>\n",
       "      <td>0</td>\n",
       "    </tr>\n",
       "    <tr>\n",
       "      <th>2</th>\n",
       "      <td>11nt5w1</td>\n",
       "      <td>People of Reddit what is the dumbest reason yo...</td>\n",
       "      <td></td>\n",
       "      <td>2023-03-10 16:08:27</td>\n",
       "      <td>Starboy3210</td>\n",
       "      <td>AskReddit</td>\n",
       "      <td>2129</td>\n",
       "      <td>0</td>\n",
       "      <td>1889</td>\n",
       "      <td>peopl reddit dumbest reason ex partner gave cheat</td>\n",
       "      <td>...</td>\n",
       "      <td>0</td>\n",
       "      <td>0</td>\n",
       "      <td>0</td>\n",
       "      <td>0</td>\n",
       "      <td>0</td>\n",
       "      <td>0</td>\n",
       "      <td>0</td>\n",
       "      <td>0</td>\n",
       "      <td>0</td>\n",
       "      <td>0</td>\n",
       "    </tr>\n",
       "    <tr>\n",
       "      <th>3</th>\n",
       "      <td>11nqkcm</td>\n",
       "      <td>If instead of men women were inherently physic...</td>\n",
       "      <td></td>\n",
       "      <td>2023-03-10 14:23:57</td>\n",
       "      <td>Tototorrin</td>\n",
       "      <td>AskReddit</td>\n",
       "      <td>1215</td>\n",
       "      <td>0</td>\n",
       "      <td>1332</td>\n",
       "      <td>if instead men woman inher physic stronger wou...</td>\n",
       "      <td>...</td>\n",
       "      <td>0</td>\n",
       "      <td>0</td>\n",
       "      <td>0</td>\n",
       "      <td>1</td>\n",
       "      <td>0</td>\n",
       "      <td>0</td>\n",
       "      <td>0</td>\n",
       "      <td>0</td>\n",
       "      <td>0</td>\n",
       "      <td>0</td>\n",
       "    </tr>\n",
       "    <tr>\n",
       "      <th>4</th>\n",
       "      <td>11nmzgf</td>\n",
       "      <td>What food has the worst texture</td>\n",
       "      <td></td>\n",
       "      <td>2023-03-10 11:48:32</td>\n",
       "      <td>Lille_Ana</td>\n",
       "      <td>AskReddit</td>\n",
       "      <td>1351</td>\n",
       "      <td>0</td>\n",
       "      <td>3328</td>\n",
       "      <td>what food worst textur</td>\n",
       "      <td>...</td>\n",
       "      <td>0</td>\n",
       "      <td>0</td>\n",
       "      <td>0</td>\n",
       "      <td>0</td>\n",
       "      <td>0</td>\n",
       "      <td>0</td>\n",
       "      <td>1</td>\n",
       "      <td>0</td>\n",
       "      <td>0</td>\n",
       "      <td>0</td>\n",
       "    </tr>\n",
       "    <tr>\n",
       "      <th>...</th>\n",
       "      <td>...</td>\n",
       "      <td>...</td>\n",
       "      <td>...</td>\n",
       "      <td>...</td>\n",
       "      <td>...</td>\n",
       "      <td>...</td>\n",
       "      <td>...</td>\n",
       "      <td>...</td>\n",
       "      <td>...</td>\n",
       "      <td>...</td>\n",
       "      <td>...</td>\n",
       "      <td>...</td>\n",
       "      <td>...</td>\n",
       "      <td>...</td>\n",
       "      <td>...</td>\n",
       "      <td>...</td>\n",
       "      <td>...</td>\n",
       "      <td>...</td>\n",
       "      <td>...</td>\n",
       "      <td>...</td>\n",
       "      <td>...</td>\n",
       "    </tr>\n",
       "    <tr>\n",
       "      <th>96</th>\n",
       "      <td>11o4j64</td>\n",
       "      <td>What is the longest you have ever went without...</td>\n",
       "      <td></td>\n",
       "      <td>2023-03-10 23:34:58</td>\n",
       "      <td>Puzzleheaded-Pen9047</td>\n",
       "      <td>AskReddit</td>\n",
       "      <td>3</td>\n",
       "      <td>0</td>\n",
       "      <td>10</td>\n",
       "      <td>what longest ever went without eat</td>\n",
       "      <td>...</td>\n",
       "      <td>0</td>\n",
       "      <td>0</td>\n",
       "      <td>0</td>\n",
       "      <td>0</td>\n",
       "      <td>0</td>\n",
       "      <td>0</td>\n",
       "      <td>0</td>\n",
       "      <td>0</td>\n",
       "      <td>0</td>\n",
       "      <td>0</td>\n",
       "    </tr>\n",
       "    <tr>\n",
       "      <th>97</th>\n",
       "      <td>11o4hde</td>\n",
       "      <td>Reddit what are some unethical ways to make money</td>\n",
       "      <td></td>\n",
       "      <td>2023-03-10 23:32:54</td>\n",
       "      <td>macanddogs</td>\n",
       "      <td>AskReddit</td>\n",
       "      <td>3</td>\n",
       "      <td>0</td>\n",
       "      <td>12</td>\n",
       "      <td>reddit uneth way make money</td>\n",
       "      <td>...</td>\n",
       "      <td>0</td>\n",
       "      <td>0</td>\n",
       "      <td>0</td>\n",
       "      <td>0</td>\n",
       "      <td>0</td>\n",
       "      <td>0</td>\n",
       "      <td>0</td>\n",
       "      <td>0</td>\n",
       "      <td>0</td>\n",
       "      <td>0</td>\n",
       "    </tr>\n",
       "    <tr>\n",
       "      <th>98</th>\n",
       "      <td>11o4h09</td>\n",
       "      <td>What do you put cheese on</td>\n",
       "      <td></td>\n",
       "      <td>2023-03-10 23:32:28</td>\n",
       "      <td>Puzzleheaded-Pen9047</td>\n",
       "      <td>AskReddit</td>\n",
       "      <td>3</td>\n",
       "      <td>0</td>\n",
       "      <td>18</td>\n",
       "      <td>what put chees</td>\n",
       "      <td>...</td>\n",
       "      <td>0</td>\n",
       "      <td>0</td>\n",
       "      <td>0</td>\n",
       "      <td>0</td>\n",
       "      <td>0</td>\n",
       "      <td>0</td>\n",
       "      <td>0</td>\n",
       "      <td>0</td>\n",
       "      <td>0</td>\n",
       "      <td>0</td>\n",
       "    </tr>\n",
       "    <tr>\n",
       "      <th>99</th>\n",
       "      <td>11o4gew</td>\n",
       "      <td>What are some good hacks and survival tricks f...</td>\n",
       "      <td></td>\n",
       "      <td>2023-03-10 23:31:44</td>\n",
       "      <td>Shamanofthealike1</td>\n",
       "      <td>AskReddit</td>\n",
       "      <td>3</td>\n",
       "      <td>0</td>\n",
       "      <td>5</td>\n",
       "      <td>what good hack surviv trick someon live someon...</td>\n",
       "      <td>...</td>\n",
       "      <td>0</td>\n",
       "      <td>0</td>\n",
       "      <td>0</td>\n",
       "      <td>0</td>\n",
       "      <td>0</td>\n",
       "      <td>0</td>\n",
       "      <td>0</td>\n",
       "      <td>0</td>\n",
       "      <td>0</td>\n",
       "      <td>0</td>\n",
       "    </tr>\n",
       "    <tr>\n",
       "      <th>100</th>\n",
       "      <td>11o4fcp</td>\n",
       "      <td>Which video game were you legit addicted to</td>\n",
       "      <td></td>\n",
       "      <td>2023-03-10 23:30:31</td>\n",
       "      <td>primeiro23</td>\n",
       "      <td>AskReddit</td>\n",
       "      <td>3</td>\n",
       "      <td>0</td>\n",
       "      <td>16</td>\n",
       "      <td>which video game legit addict</td>\n",
       "      <td>...</td>\n",
       "      <td>0</td>\n",
       "      <td>0</td>\n",
       "      <td>0</td>\n",
       "      <td>0</td>\n",
       "      <td>0</td>\n",
       "      <td>0</td>\n",
       "      <td>0</td>\n",
       "      <td>0</td>\n",
       "      <td>0</td>\n",
       "      <td>0</td>\n",
       "    </tr>\n",
       "  </tbody>\n",
       "</table>\n",
       "<p>101 rows × 331 columns</p>\n",
       "</div>"
      ],
      "text/plain": [
       "     post_id                                         post_title  \\\n",
       "0    11kyi0b  Which one of these charities should AskReddit ...   \n",
       "1    11nujza  You find a wallet with 300 in it What do you f...   \n",
       "2    11nt5w1  People of Reddit what is the dumbest reason yo...   \n",
       "3    11nqkcm  If instead of men women were inherently physic...   \n",
       "4    11nmzgf                    What food has the worst texture   \n",
       "..       ...                                                ...   \n",
       "96   11o4j64  What is the longest you have ever went without...   \n",
       "97   11o4hde  Reddit what are some unethical ways to make money   \n",
       "98   11o4h09                          What do you put cheese on   \n",
       "99   11o4gew  What are some good hacks and survival tricks f...   \n",
       "100  11o4fcp        Which video game were you legit addicted to   \n",
       "\n",
       "                                             post_text            post_date  \\\n",
       "0    It's time for the community to vote on which c...  2023-03-07 12:49:22   \n",
       "1                                                       2023-03-10 17:01:47   \n",
       "2                                                       2023-03-10 16:08:27   \n",
       "3                                                       2023-03-10 14:23:57   \n",
       "4                                                       2023-03-10 11:48:32   \n",
       "..                                                 ...                  ...   \n",
       "96                                                      2023-03-10 23:34:58   \n",
       "97                                                      2023-03-10 23:32:54   \n",
       "98                                                      2023-03-10 23:32:28   \n",
       "99                                                      2023-03-10 23:31:44   \n",
       "100                                                     2023-03-10 23:30:31   \n",
       "\n",
       "                   author  subreddit  upvotes  downvotes  num_comments  \\\n",
       "0                 -eDgAR-  AskReddit      133          0             6   \n",
       "1     SolutionIsEducation  AskReddit     5282          0          4150   \n",
       "2             Starboy3210  AskReddit     2129          0          1889   \n",
       "3              Tototorrin  AskReddit     1215          0          1332   \n",
       "4               Lille_Ana  AskReddit     1351          0          3328   \n",
       "..                    ...        ...      ...        ...           ...   \n",
       "96   Puzzleheaded-Pen9047  AskReddit        3          0            10   \n",
       "97             macanddogs  AskReddit        3          0            12   \n",
       "98   Puzzleheaded-Pen9047  AskReddit        3          0            18   \n",
       "99      Shamanofthealike1  AskReddit        3          0             5   \n",
       "100            primeiro23  AskReddit        3          0            16   \n",
       "\n",
       "                                     preprocessed_text  ...  wikipedia  wish  \\\n",
       "0    which one chariti askreddit support 15th anniv...  ...          0     0   \n",
       "1    you find wallet 300 what find wallet make keep...  ...          0     0   \n",
       "2    peopl reddit dumbest reason ex partner gave cheat  ...          0     0   \n",
       "3    if instead men woman inher physic stronger wou...  ...          0     0   \n",
       "4                               what food worst textur  ...          0     0   \n",
       "..                                                 ...  ...        ...   ...   \n",
       "96                  what longest ever went without eat  ...          0     0   \n",
       "97                         reddit uneth way make money  ...          0     0   \n",
       "98                                      what put chees  ...          0     0   \n",
       "99   what good hack surviv trick someon live someon...  ...          0     0   \n",
       "100                      which video game legit addict  ...          0     0   \n",
       "\n",
       "     wit  woman  work  world  worst  year  youv  zombi  \n",
       "0      0      0     0      0      0     0     0      0  \n",
       "1      0      0     0      0      0     0     0      0  \n",
       "2      0      0     0      0      0     0     0      0  \n",
       "3      0      1     0      0      0     0     0      0  \n",
       "4      0      0     0      0      1     0     0      0  \n",
       "..   ...    ...   ...    ...    ...   ...   ...    ...  \n",
       "96     0      0     0      0      0     0     0      0  \n",
       "97     0      0     0      0      0     0     0      0  \n",
       "98     0      0     0      0      0     0     0      0  \n",
       "99     0      0     0      0      0     0     0      0  \n",
       "100    0      0     0      0      0     0     0      0  \n",
       "\n",
       "[101 rows x 331 columns]"
      ]
     },
     "execution_count": 164,
     "metadata": {},
     "output_type": "execute_result"
    }
   ],
   "source": [
    "df_final"
   ]
  },
  {
   "cell_type": "markdown",
   "metadata": {},
   "source": [
    "# Data Exploration (EDA)"
   ]
  },
  {
   "cell_type": "code",
   "execution_count": 165,
   "metadata": {},
   "outputs": [
    {
     "data": {
      "image/png": "[encoded data removed]",
      "text/plain": [
       "<Figure size 640x480 with 1 Axes>"
      ]
     },
     "metadata": {},
     "output_type": "display_data"
    }
   ],
   "source": [
    "#Use unspervised learning methods to categorize each post, in this case we will be using KMEANs\n",
    "#First we will use the elbow method in order to determine the ideal number of clusters for our data\n",
    "\n",
    "\n",
    "# concatenate the vectorized text features, upvotes, and number of comments\n",
    "df_elbow = df_final.drop([\"post_id\", \"post_title\", \"post_text\", \"post_date\", \"author\", \"subreddit\", \"preprocessed_text\"], axis=1)\n",
    "\n",
    "# perform k-means clustering for different number of clusters and calculate the inertia for each\n",
    "inertia = []\n",
    "for k in range(1, 11):\n",
    "    kmeans = KMeans(n_clusters=k, random_state=42)\n",
    "    kmeans.fit(df_elbow)\n",
    "    inertia.append(kmeans.inertia_)\n",
    "\n",
    "# plot the elbow curve to visualize the results\n",
    "plt.plot(range(1, 11), inertia, marker='o')\n",
    "plt.xlabel('Number of clusters')\n",
    "plt.ylabel('Inertia')\n",
    "plt.show()\n"
   ]
  },
  {
   "cell_type": "markdown",
   "metadata": {},
   "source": [
    "The elbow method suggests selecting the number of clusters where the inertia starts to level off. In our case, it appears that three clusters would be the ideal number."
   ]
  },
  {
   "cell_type": "code",
   "execution_count": 166,
   "metadata": {},
   "outputs": [
    {
     "data": {
      "image/png": "[encoded data removed]",
      "text/plain": [
       "<Figure size 640x480 with 1 Axes>"
      ]
     },
     "metadata": {},
     "output_type": "display_data"
    }
   ],
   "source": [
    "# Perform K-means clustering with 3 clusters\n",
    "kmeans_3 = KMeans(n_clusters=3)\n",
    "kmeans_3.fit(df_elbow)\n",
    "labels_3 = kmeans_3.labels_\n",
    "\n",
    "# Visualize the clusters\n",
    "plt.scatter(df_elbow['upvotes'], df_elbow['num_comments'], c=labels_3)\n",
    "plt.title(\"K-means clustering with 3 clusters\")\n",
    "plt.show()\n"
   ]
  },
  {
   "cell_type": "markdown",
   "metadata": {},
   "source": [
    "We perform k-means clustering on the preprocessed text, upvotes, and number of comments columns with three clusters. We plot the clusters based on the upvotes and number of comments. However, there seems to be an outlier that is impacting our results. Therefore, we will remove the outlier."
   ]
  },
  {
   "cell_type": "markdown",
   "metadata": {},
   "source": [
    "# Removing Outlier and reperforming Kmeans\n"
   ]
  },
  {
   "cell_type": "code",
   "execution_count": 167,
   "metadata": {},
   "outputs": [
    {
     "name": "stdout",
     "output_type": "stream",
     "text": [
      "upvotes         19339\n",
      "downvotes           0\n",
      "num_comments    23291\n",
      "1000000             0\n",
      "12                  0\n",
      "                ...  \n",
      "world               0\n",
      "worst               0\n",
      "year                0\n",
      "youv                0\n",
      "zombi               0\n",
      "Name: 12, Length: 324, dtype: int64\n"
     ]
    }
   ],
   "source": [
    "outlier = df_elbow.loc[df_elbow['num_comments'].idxmax()]# Find the outlier based on the graph it seems to be at the max\n",
    "print(outlier)"
   ]
  },
  {
   "cell_type": "code",
   "execution_count": 168,
   "metadata": {},
   "outputs": [],
   "source": [
    "# Find the index of the row corresponding to the outlier post\n",
    "outlier_index = df_final[df_final[\"post_id\"] == \"11mv4dc\"].index[0]\n",
    "\n",
    "# Drop the row from the dataframe\n",
    "df_final_no_outlier = df_final.drop(outlier_index)\n"
   ]
  },
  {
   "cell_type": "code",
   "execution_count": 169,
   "metadata": {},
   "outputs": [
    {
     "data": {
      "image/png": "[encoded data removed]",
      "text/plain": [
       "<Figure size 640x480 with 1 Axes>"
      ]
     },
     "metadata": {},
     "output_type": "display_data"
    }
   ],
   "source": [
    "df_elbow_clean = df_final_no_outlier.drop([\"post_id\", \"post_title\", \"post_text\", \"post_date\", \"author\", \"subreddit\", \"preprocessed_text\"], axis=1)\n",
    "\n",
    "\n",
    "# Perform elbow method on updated data frame\n",
    "inertias = []\n",
    "for k in range(1, 11):\n",
    "    kmeans = KMeans(n_clusters=k)\n",
    "    kmeans.fit(df_elbow_clean)\n",
    "    inertias.append(kmeans.inertia_)\n",
    "\n",
    "# Plot elbow method results\n",
    "plt.plot(range(1, 11), inertias,marker='o')\n",
    "plt.title(\"Elbow Method\")\n",
    "plt.xlabel(\"Number of Clusters\")\n",
    "plt.ylabel(\"Inertia\")\n",
    "plt.show()"
   ]
  },
  {
   "cell_type": "code",
   "execution_count": 170,
   "metadata": {},
   "outputs": [
    {
     "data": {
      "image/png": "[encoded data removed]",
      "text/plain": [
       "<Figure size 640x480 with 1 Axes>"
      ]
     },
     "metadata": {},
     "output_type": "display_data"
    }
   ],
   "source": [
    "# Perform K-means clustering with 3 clusters\n",
    "kmeans_3 = KMeans(n_clusters=3)\n",
    "kmeans_3.fit(df_elbow_clean)\n",
    "labels_3 = kmeans_3.labels_\n",
    "\n",
    "# Visualize the clusters\n",
    "plt.scatter(df_elbow_clean['upvotes'], df_elbow_clean['num_comments'], c=labels_3)\n",
    "plt.title(\"K-means clustering with 3 clusters\")\n",
    "plt.show()\n"
   ]
  },
  {
   "cell_type": "code",
   "execution_count": 171,
   "metadata": {},
   "outputs": [
    {
     "data": {
      "text/html": [
       "<div>\n",
       "<style scoped>\n",
       "    .dataframe tbody tr th:only-of-type {\n",
       "        vertical-align: middle;\n",
       "    }\n",
       "\n",
       "    .dataframe tbody tr th {\n",
       "        vertical-align: top;\n",
       "    }\n",
       "\n",
       "    .dataframe thead th {\n",
       "        text-align: right;\n",
       "    }\n",
       "</style>\n",
       "<table border=\"1\" class=\"dataframe\">\n",
       "  <thead>\n",
       "    <tr style=\"text-align: right;\">\n",
       "      <th></th>\n",
       "      <th>upvotes</th>\n",
       "      <th>downvotes</th>\n",
       "      <th>num_comments</th>\n",
       "    </tr>\n",
       "    <tr>\n",
       "      <th>cluster</th>\n",
       "      <th></th>\n",
       "      <th></th>\n",
       "      <th></th>\n",
       "    </tr>\n",
       "  </thead>\n",
       "  <tbody>\n",
       "    <tr>\n",
       "      <th>0</th>\n",
       "      <td>46.707865</td>\n",
       "      <td>0.0</td>\n",
       "      <td>140.415730</td>\n",
       "    </tr>\n",
       "    <tr>\n",
       "      <th>1</th>\n",
       "      <td>1460.875000</td>\n",
       "      <td>0.0</td>\n",
       "      <td>2303.500000</td>\n",
       "    </tr>\n",
       "    <tr>\n",
       "      <th>2</th>\n",
       "      <td>5269.000000</td>\n",
       "      <td>0.0</td>\n",
       "      <td>5235.666667</td>\n",
       "    </tr>\n",
       "  </tbody>\n",
       "</table>\n",
       "</div>"
      ],
      "text/plain": [
       "             upvotes  downvotes  num_comments\n",
       "cluster                                      \n",
       "0          46.707865        0.0    140.415730\n",
       "1        1460.875000        0.0   2303.500000\n",
       "2        5269.000000        0.0   5235.666667"
      ]
     },
     "execution_count": 171,
     "metadata": {},
     "output_type": "execute_result"
    }
   ],
   "source": [
    "# Add the cluster labels to the dataframe\n",
    "df_final_no_outlier[\"cluster\"] = labels_3\n",
    "# Compute the mean values of the upvotes, downvotes, and number of comments for each cluster\n",
    "df_final_no_outlier.groupby(\"cluster\").mean()[[\"upvotes\", \"downvotes\", \"num_comments\"]]\n"
   ]
  },
  {
   "cell_type": "code",
   "execution_count": 172,
   "metadata": {},
   "outputs": [
    {
     "data": {
      "text/html": [
       "<div>\n",
       "<style scoped>\n",
       "    .dataframe tbody tr th:only-of-type {\n",
       "        vertical-align: middle;\n",
       "    }\n",
       "\n",
       "    .dataframe tbody tr th {\n",
       "        vertical-align: top;\n",
       "    }\n",
       "\n",
       "    .dataframe thead th {\n",
       "        text-align: right;\n",
       "    }\n",
       "</style>\n",
       "<table border=\"1\" class=\"dataframe\">\n",
       "  <thead>\n",
       "    <tr style=\"text-align: right;\">\n",
       "      <th></th>\n",
       "      <th>upvotes</th>\n",
       "      <th>downvotes</th>\n",
       "      <th>num_comments</th>\n",
       "    </tr>\n",
       "    <tr>\n",
       "      <th>cluster</th>\n",
       "      <th></th>\n",
       "      <th></th>\n",
       "      <th></th>\n",
       "    </tr>\n",
       "  </thead>\n",
       "  <tbody>\n",
       "    <tr>\n",
       "      <th>0</th>\n",
       "      <td>6.0</td>\n",
       "      <td>0.0</td>\n",
       "      <td>18.0</td>\n",
       "    </tr>\n",
       "    <tr>\n",
       "      <th>1</th>\n",
       "      <td>1543.0</td>\n",
       "      <td>0.0</td>\n",
       "      <td>1861.0</td>\n",
       "    </tr>\n",
       "    <tr>\n",
       "      <th>2</th>\n",
       "      <td>5282.0</td>\n",
       "      <td>0.0</td>\n",
       "      <td>5626.0</td>\n",
       "    </tr>\n",
       "  </tbody>\n",
       "</table>\n",
       "</div>"
      ],
      "text/plain": [
       "         upvotes  downvotes  num_comments\n",
       "cluster                                  \n",
       "0            6.0        0.0          18.0\n",
       "1         1543.0        0.0        1861.0\n",
       "2         5282.0        0.0        5626.0"
      ]
     },
     "execution_count": 172,
     "metadata": {},
     "output_type": "execute_result"
    }
   ],
   "source": [
    "df_final_no_outlier.groupby(\"cluster\").median()[[\"upvotes\", \"downvotes\", \"num_comments\"]]"
   ]
  },
  {
   "cell_type": "markdown",
   "metadata": {},
   "source": [
    "Cluster 2 seems to have the most amount of interation with high number of upvotes as well as number of comments. Cluster 1 also has decent amoung of upvotes and number of comments showing good interation from the community. These two clusters can be contrated with cluster 0 with fewer number of upvotes being in the single digits and small amount of interation with a low amount of comments"
   ]
  },
  {
   "cell_type": "code",
   "execution_count": 173,
   "metadata": {},
   "outputs": [
    {
     "name": "stdout",
     "output_type": "stream",
     "text": [
      "Cluster 0: ['thing', 'would', 'ever', 'peopl', 'realli', 'make', 'worst', 'game', 'someth', 'feel']\n",
      "Cluster 1: ['would', 'ruin', 'peopl', 'reddit', 'dumbest', 'reason', 'ex', 'partner', 'gave', 'cheat']\n",
      "Cluster 2: ['find', 'wallet', '300', 'make', 'keep', 'money', 'nonreligi', 'equival', 'amen', 'best']\n"
     ]
    }
   ],
   "source": [
    "# Define a function to get the most common words in each cluster\n",
    "def get_top_words(cluster, n_top_words=10):\n",
    "    cluster_df = df_final_no_outlier[df_final_no_outlier[\"cluster\"] == cluster]\n",
    "    text = \" \".join(cluster_df[\"preprocessed_text\"].tolist())\n",
    "    tokens = word_tokenize(text)\n",
    "    tokens = [token for token in tokens if token not in stop_words]\n",
    "    freq_dist = nltk.FreqDist(tokens)\n",
    "    top_words = freq_dist.most_common(n_top_words)\n",
    "    return [word for word, count in top_words]\n",
    "\n",
    "# Print the most common words in each cluster\n",
    "for cluster in range(3):\n",
    "    print(f\"Cluster {cluster}: {get_top_words(cluster)}\")\n"
   ]
  },
  {
   "cell_type": "markdown",
   "metadata": {},
   "source": [
    "For cluster 0, this cluster seems to be focused on general observations about things and people, with words like \"thing\", \"people\", \"make\", and \"feel\". Whilist for cluster 1 seems to be focused on relationships, with words like \"ruin\", \"partner\", and \"cheat\". For cluster 2 it seems to be focused on financial or practical matters, with words like \"wallet\", and \"money\", with the inclusion of \"nonreligious\" and \"amen\", further suggesting spiritual or philosophical questions."
   ]
  },
  {
   "cell_type": "code",
   "execution_count": 174,
   "metadata": {},
   "outputs": [
    {
     "data": {
      "text/plain": [
       "0    89\n",
       "1     8\n",
       "2     3\n",
       "Name: cluster, dtype: int64"
      ]
     },
     "execution_count": 174,
     "metadata": {},
     "output_type": "execute_result"
    }
   ],
   "source": [
    "df_final_no_outlier[\"cluster\"].value_counts()"
   ]
  },
  {
   "cell_type": "markdown",
   "metadata": {},
   "source": [
    "Most posts seem to be under cluster 0, which suggests that these posts were similar in terms of their content. Cluster 1 contains only 8 posts, while cluster 2 contains only 3 posts, indicating that the topics of these posts were relatively distinct from the majority of the posts in the dataset."
   ]
  },
  {
   "cell_type": "code",
   "execution_count": 175,
   "metadata": {},
   "outputs": [],
   "source": [
    "text_data = df_final_no_outlier[\"post_title\"]"
   ]
  },
  {
   "cell_type": "code",
   "execution_count": 176,
   "metadata": {},
   "outputs": [
    {
     "name": "stdout",
     "output_type": "stream",
     "text": [
      "0      {'neg': 0.0, 'neu': 0.558, 'pos': 0.442, 'comp...\n",
      "1      {'neg': 0.0, 'neu': 1.0, 'pos': 0.0, 'compound...\n",
      "2      {'neg': 0.365, 'neu': 0.635, 'pos': 0.0, 'comp...\n",
      "3      {'neg': 0.0, 'neu': 0.822, 'pos': 0.178, 'comp...\n",
      "4      {'neg': 0.451, 'neu': 0.549, 'pos': 0.0, 'comp...\n",
      "                             ...                        \n",
      "96     {'neg': 0.0, 'neu': 1.0, 'pos': 0.0, 'compound...\n",
      "97     {'neg': 0.292, 'neu': 0.708, 'pos': 0.0, 'comp...\n",
      "98     {'neg': 0.0, 'neu': 1.0, 'pos': 0.0, 'compound...\n",
      "99     {'neg': 0.067, 'neu': 0.804, 'pos': 0.129, 'co...\n",
      "100    {'neg': 0.0, 'neu': 1.0, 'pos': 0.0, 'compound...\n",
      "Name: post_title, Length: 100, dtype: object\n"
     ]
    }
   ],
   "source": [
    "# initialize sentiment analyzer\n",
    "sid = SentimentIntensityAnalyzer()\n",
    "\n",
    "# perform sentiment analysis on each post title in the text data\n",
    "sentiment_scores = text_data.apply(sid.polarity_scores)\n",
    "\n",
    "# print the sentiment scores\n",
    "print(sentiment_scores)\n"
   ]
  },
  {
   "cell_type": "code",
   "execution_count": 177,
   "metadata": {},
   "outputs": [
    {
     "name": "stdout",
     "output_type": "stream",
     "text": [
      "Average compound score: 0.06652499999999999\n"
     ]
    }
   ],
   "source": [
    "compound_scores = [score['compound'] for score in sentiment_scores]\n",
    "average_compound_score = sum(compound_scores) / len(compound_scores)\n",
    "print(\"Average compound score:\", average_compound_score)\n"
   ]
  },
  {
   "cell_type": "markdown",
   "metadata": {},
   "source": [
    "Based on the average compound score of 0.066525, we can say that the overall sentiment of post titles in the hot section is slightly positive."
   ]
  },
  {
   "cell_type": "code",
   "execution_count": 178,
   "metadata": {},
   "outputs": [
    {
     "name": "stdout",
     "output_type": "stream",
     "text": [
      "Median compound score: 0.0\n"
     ]
    }
   ],
   "source": [
    "# Get the list of compound scores from the sentiment_scores dictionary\n",
    "compound_scores = [score['compound'] for score in sentiment_scores]\n",
    "\n",
    "# Calculate the median score using numpy\n",
    "median_score = np.median(compound_scores)\n",
    "\n",
    "print('Median compound score:', median_score)"
   ]
  },
  {
   "cell_type": "markdown",
   "metadata": {},
   "source": [
    "Based on the median compound score there are likely an equal number of positive and negative posts in the dataset, and that the overall sentiment is not strongly positive or negative"
   ]
  },
  {
   "cell_type": "code",
   "execution_count": 179,
   "metadata": {},
   "outputs": [
    {
     "data": {
      "image/png": "[encoded data removed]",
      "text/plain": [
       "<Figure size 640x480 with 1 Axes>"
      ]
     },
     "metadata": {},
     "output_type": "display_data"
    },
    {
     "data": {
      "image/png": "[encoded data removed]",
      "text/plain": [
       "<Figure size 640x480 with 1 Axes>"
      ]
     },
     "metadata": {},
     "output_type": "display_data"
    }
   ],
   "source": [
    "import matplotlib.pyplot as plt\n",
    "\n",
    "# extract the compound scores\n",
    "compound_scores = [score['compound'] for score in sentiment_scores]\n",
    "\n",
    "# plot a histogram of the compound scores\n",
    "plt.hist(compound_scores, bins=20)\n",
    "plt.xlabel(\"Compound Score\")\n",
    "plt.ylabel(\"Frequency\")\n",
    "plt.title(\"Distribution of Sentiment Scores\")\n",
    "plt.show()\n",
    "\n",
    "# plot a box plot of the compound scores\n",
    "plt.boxplot(compound_scores)\n",
    "plt.ylabel(\"Compound Score\")\n",
    "plt.title(\"Distribution of Sentiment Scores\")\n",
    "plt.show()\n"
   ]
  },
  {
   "cell_type": "markdown",
   "metadata": {},
   "source": [
    "This sentiment analysis is not surprising as most of the posts are simply questions from the subreddit AskReddit which should be mostly neutral or slightly postive."
   ]
  }
 ],
 "metadata": {
  "kernelspec": {
   "display_name": "Python 3.7.4 32-bit",
   "language": "python",
   "name": "python3"
  },
  "language_info": {
   "codemirror_mode": {
    "name": "ipython",
    "version": 3
   },
   "file_extension": ".py",
   "mimetype": "text/x-python",
   "name": "python",
   "nbconvert_exporter": "python",
   "pygments_lexer": "ipython3",
   "version": "3.7.4"
  },
  "orig_nbformat": 4,
  "vscode": {
   "interpreter": {
    "hash": "10f28397b6593cba7dcf5b94dfb0d1605ccb28146fdb7157b621a9c587d85554"
   }
  }
 },
 "nbformat": 4,
 "nbformat_minor": 2
}
